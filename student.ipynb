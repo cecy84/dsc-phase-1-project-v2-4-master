{
 "cells": [
  {
   "cell_type": "markdown",
   "metadata": {},
   "source": [
    "## Final Project Submission\n",
    "\n",
    "Please fill out:\n",
    "* Student name: Cecily Wahome\n",
    "* Student pace: part time \n",
    "* Scheduled project review date/time: \n",
    "* Instructor name: Samuel Karu\n",
    "* Blog post URL:\n"
   ]
  },
  {
   "cell_type": "code",
   "execution_count": 18,
   "metadata": {},
   "outputs": [],
   "source": [
    "import pandas as pd \n",
    "import csv\n",
    "import numpy as np\n",
    "import matplotlib.pyplot as plt\n",
    "import seaborn as sns"
   ]
  },
  {
   "cell_type": "markdown",
   "metadata": {},
   "source": [
    "## Data Loading"
   ]
  },
  {
   "cell_type": "code",
   "execution_count": 4,
   "metadata": {},
   "outputs": [
    {
     "name": "stdout",
     "output_type": "stream",
     "text": [
      "                                         title studio  domestic_gross  \\\n",
      "0                                  Toy Story 3     BV     415000000.0   \n",
      "1                   Alice in Wonderland (2010)     BV     334200000.0   \n",
      "2  Harry Potter and the Deathly Hallows Part 1     WB     296000000.0   \n",
      "3                                    Inception     WB     292600000.0   \n",
      "4                          Shrek Forever After   P/DW     238700000.0   \n",
      "\n",
      "  foreign_gross  year  \n",
      "0     652000000  2010  \n",
      "1     691300000  2010  \n",
      "2     664300000  2010  \n",
      "3     535700000  2010  \n",
      "4     513900000  2010  \n",
      "   Unnamed: 0            genre_ids     id original_language  \\\n",
      "0           0      [12, 14, 10751]  12444                en   \n",
      "1           1  [14, 12, 16, 10751]  10191                en   \n",
      "2           2        [12, 28, 878]  10138                en   \n",
      "3           3      [16, 35, 10751]    862                en   \n",
      "4           4        [28, 878, 12]  27205                en   \n",
      "\n",
      "                                 original_title  popularity release_date  \\\n",
      "0  Harry Potter and the Deathly Hallows: Part 1      33.533   2010-11-19   \n",
      "1                      How to Train Your Dragon      28.734   2010-03-26   \n",
      "2                                    Iron Man 2      28.515   2010-05-07   \n",
      "3                                     Toy Story      28.005   1995-11-22   \n",
      "4                                     Inception      27.920   2010-07-16   \n",
      "\n",
      "                                          title  vote_average  vote_count  \n",
      "0  Harry Potter and the Deathly Hallows: Part 1           7.7       10788  \n",
      "1                      How to Train Your Dragon           7.7        7610  \n",
      "2                                    Iron Man 2           6.8       12368  \n",
      "3                                     Toy Story           7.9       10174  \n",
      "4                                     Inception           8.3       22186  \n"
     ]
    }
   ],
   "source": [
    "box_office_data = pd.read_csv(r'C:\\Users\\USER\\Desktop\\Phase_1_Project\\dsc-phase-1-project-v2-4-master\\zippedData\\bom.movie_gross.csv.gz')\n",
    "tmdb_data = pd.read_csv(r'C:\\Users\\USER\\Desktop\\Phase_1_Project\\dsc-phase-1-project-v2-4-master\\zippedData\\tmdb.movies.csv.gz')\n",
    "\n",
    "# Displaying the first few rows of each dataset\n",
    "print(box_office_data.head())\n",
    "print(tmdb_data.head())"
   ]
  },
  {
   "cell_type": "code",
   "execution_count": 5,
   "metadata": {},
   "outputs": [
    {
     "name": "stdout",
     "output_type": "stream",
     "text": [
      "Box Office Data Types:\n",
      " title              object\n",
      "studio             object\n",
      "domestic_gross    float64\n",
      "foreign_gross      object\n",
      "year                int64\n",
      "dtype: object\n",
      "TMDb Data Types:\n",
      " Unnamed: 0             int64\n",
      "genre_ids             object\n",
      "id                     int64\n",
      "original_language     object\n",
      "original_title        object\n",
      "popularity           float64\n",
      "release_date          object\n",
      "title                 object\n",
      "vote_average         float64\n",
      "vote_count             int64\n",
      "dtype: object\n"
     ]
    }
   ],
   "source": [
    "# Checking the Data Types\n",
    "print(\"Box Office Data Types:\\n\", box_office_data.dtypes)\n",
    "print(\"TMDb Data Types:\\n\", tmdb_data.dtypes)"
   ]
  },
  {
   "cell_type": "markdown",
   "metadata": {},
   "source": [
    "## Data cleaning"
   ]
  },
  {
   "cell_type": "code",
   "execution_count": 6,
   "metadata": {},
   "outputs": [
    {
     "name": "stdout",
     "output_type": "stream",
     "text": [
      "title                0\n",
      "studio               5\n",
      "domestic_gross      28\n",
      "foreign_gross     1350\n",
      "year                 0\n",
      "dtype: int64\n",
      "Unnamed: 0           0\n",
      "genre_ids            0\n",
      "id                   0\n",
      "original_language    0\n",
      "original_title       0\n",
      "popularity           0\n",
      "release_date         0\n",
      "title                0\n",
      "vote_average         0\n",
      "vote_count           0\n",
      "dtype: int64\n"
     ]
    }
   ],
   "source": [
    "# Checking for missing values\n",
    "print(box_office_data.isnull().sum())\n",
    "print(tmdb_data.isnull().sum())"
   ]
  },
  {
   "cell_type": "code",
   "execution_count": 7,
   "metadata": {},
   "outputs": [
    {
     "name": "stdout",
     "output_type": "stream",
     "text": [
      "Box Office Data Columns:  Index(['title', 'studio', 'domestic_gross', 'foreign_gross', 'year'], dtype='object')\n",
      "TMDb Data Columns:  Index(['Unnamed: 0', 'genre_ids', 'id', 'original_language', 'original_title',\n",
      "       'popularity', 'release_date', 'title', 'vote_average', 'vote_count'],\n",
      "      dtype='object')\n"
     ]
    }
   ],
   "source": [
    "# Inspecting the columns in both DataFrames\n",
    "print(\"Box Office Data Columns: \", box_office_data.columns)\n",
    "print(\"TMDb Data Columns: \", tmdb_data.columns)"
   ]
  },
  {
   "cell_type": "code",
   "execution_count": 8,
   "metadata": {},
   "outputs": [
    {
     "name": "stdout",
     "output_type": "stream",
     "text": [
      "TMDb Data Columns:  Index(['Unnamed: 0', 'genre_ids', 'id', 'original_language', 'original_title',\n",
      "       'popularity', 'release_date', 'title', 'vote_average', 'vote_count'],\n",
      "      dtype='object')\n",
      "One or more required columns are missing in TMDb data.\n"
     ]
    }
   ],
   "source": [
    "# Dropping rows with missing values in important columns based on actual columns present\n",
    "box_office_data.dropna(subset=['domestic_gross', 'foreign_gross', 'title'], inplace=True)\n",
    "\n",
    "# Check available columns in TMDb data\n",
    "print(\"TMDb Data Columns: \", tmdb_data.columns)\n",
    "\n",
    "# Assuming 'vote_average', 'vote_count', and 'genres' are present after inspection\n",
    "if 'vote_average' in tmdb_data.columns and 'vote_count' in tmdb_data.columns and 'genres' in tmdb_data.columns:\n",
    "    tmdb_data.dropna(subset=['vote_average', 'vote_count', 'genres'], inplace=True)\n",
    "else:\n",
    "    print(\"One or more required columns are missing in TMDb data.\")\n"
   ]
  },
  {
   "cell_type": "code",
   "execution_count": 9,
   "metadata": {},
   "outputs": [
    {
     "name": "stdout",
     "output_type": "stream",
     "text": [
      "Box Office Data Missing Values:\n",
      " title             0\n",
      "studio            2\n",
      "domestic_gross    0\n",
      "foreign_gross     0\n",
      "year              0\n",
      "dtype: int64\n",
      "TMDb Data Missing Values:\n",
      " Unnamed: 0           0\n",
      "genre_ids            0\n",
      "id                   0\n",
      "original_language    0\n",
      "original_title       0\n",
      "popularity           0\n",
      "release_date         0\n",
      "title                0\n",
      "vote_average         0\n",
      "vote_count           0\n",
      "dtype: int64\n"
     ]
    }
   ],
   "source": [
    "#ensuring there are no missing values\n",
    "print(\"Box Office Data Missing Values:\\n\", box_office_data.isnull().sum())\n",
    "print(\"TMDb Data Missing Values:\\n\", tmdb_data.isnull().sum())\n"
   ]
  },
  {
   "cell_type": "code",
   "execution_count": 10,
   "metadata": {},
   "outputs": [],
   "source": [
    "# Dropping rows with missing 'studio' values\n",
    "box_office_data.dropna(subset=['studio'], inplace=True)"
   ]
  },
  {
   "cell_type": "code",
   "execution_count": 11,
   "metadata": {},
   "outputs": [
    {
     "name": "stdout",
     "output_type": "stream",
     "text": [
      "Box Office Data Missing Values:\n",
      " title             0\n",
      "studio            0\n",
      "domestic_gross    0\n",
      "foreign_gross     0\n",
      "year              0\n",
      "dtype: int64\n",
      "TMDb Data Missing Values:\n",
      " Unnamed: 0           0\n",
      "genre_ids            0\n",
      "id                   0\n",
      "original_language    0\n",
      "original_title       0\n",
      "popularity           0\n",
      "release_date         0\n",
      "title                0\n",
      "vote_average         0\n",
      "vote_count           0\n",
      "dtype: int64\n"
     ]
    }
   ],
   "source": [
    "# rechecking there are no missing values\n",
    "print(\"Box Office Data Missing Values:\\n\", box_office_data.isnull().sum())\n",
    "print(\"TMDb Data Missing Values:\\n\", tmdb_data.isnull().sum())"
   ]
  },
  {
   "cell_type": "code",
   "execution_count": 12,
   "metadata": {},
   "outputs": [
    {
     "name": "stdout",
     "output_type": "stream",
     "text": [
      "Box Office Data Duplicates:\n",
      " 0\n",
      "TMDb Data Duplicates:\n",
      " 0\n"
     ]
    }
   ],
   "source": [
    " #Checking for Duplicates\n",
    "print(\"Box Office Data Duplicates:\\n\", box_office_data.duplicated().sum())\n",
    "print(\"TMDb Data Duplicates:\\n\", tmdb_data.duplicated().sum())"
   ]
  },
  {
   "cell_type": "code",
   "execution_count": 13,
   "metadata": {},
   "outputs": [
    {
     "name": "stdout",
     "output_type": "stream",
     "text": [
      "Box Office Data Summary:\n",
      "        domestic_gross         year\n",
      "count    2.007000e+03  2007.000000\n",
      "mean     4.701984e+07  2013.506228\n",
      "std      8.162689e+07     2.597997\n",
      "min      4.000000e+02  2010.000000\n",
      "25%      6.700000e+05  2011.000000\n",
      "50%      1.670000e+07  2013.000000\n",
      "75%      5.605000e+07  2016.000000\n",
      "max      9.367000e+08  2018.000000\n",
      "TMDb Data Summary:\n",
      "         Unnamed: 0             id    popularity  vote_average    vote_count\n",
      "count  26517.00000   26517.000000  26517.000000  26517.000000  26517.000000\n",
      "mean   13258.00000  295050.153260      3.130912      5.991281    194.224837\n",
      "std     7654.94288  153661.615648      4.355229      1.852946    960.961095\n",
      "min        0.00000      27.000000      0.600000      0.000000      1.000000\n",
      "25%     6629.00000  157851.000000      0.600000      5.000000      2.000000\n",
      "50%    13258.00000  309581.000000      1.374000      6.000000      5.000000\n",
      "75%    19887.00000  419542.000000      3.694000      7.000000     28.000000\n",
      "max    26516.00000  608444.000000     80.773000     10.000000  22186.000000\n"
     ]
    }
   ],
   "source": [
    "#reviewing summary statistics for numerical columns to spot any anomalies.\n",
    "print(\"Box Office Data Summary:\\n\", box_office_data.describe())\n",
    "print(\"TMDb Data Summary:\\n\", tmdb_data.describe())\n"
   ]
  },
  {
   "cell_type": "code",
   "execution_count": 14,
   "metadata": {},
   "outputs": [],
   "source": [
    "# Converting gross columns to numeric\n",
    "box_office_data['domestic_gross'] = box_office_data['domestic_gross'].replace('[\\$,]', '', regex=True).astype(float)\n",
    "box_office_data['foreign_gross'] = box_office_data['foreign_gross'].replace('[\\$,]', '', regex=True).astype(float)\n"
   ]
  },
  {
   "cell_type": "markdown",
   "metadata": {},
   "source": [
    "## Merging Data"
   ]
  },
  {
   "cell_type": "code",
   "execution_count": 20,
   "metadata": {},
   "outputs": [],
   "source": [
    "# Merging the datasets on the title\n",
    "merged_data = pd.merge(box_office_data, tmdb_data, left_on='title', right_on='title')\n",
    "merged_data['total_gross'] = merged_data['domestic_gross'] + merged_data['foreign_gross']"
   ]
  },
  {
   "cell_type": "code",
   "execution_count": 16,
   "metadata": {},
   "outputs": [
    {
     "name": "stdout",
     "output_type": "stream",
     "text": [
      "Shape of box_office_data: (2007, 5)\n",
      "Shape of tmdb_data: (26517, 10)\n",
      "Shape of merged_data: (1701, 14)\n",
      "Missing values in merged_data:\n",
      " title                0\n",
      "studio               0\n",
      "domestic_gross       0\n",
      "foreign_gross        0\n",
      "year                 0\n",
      "Unnamed: 0           0\n",
      "genre_ids            0\n",
      "id                   0\n",
      "original_language    0\n",
      "original_title       0\n",
      "popularity           0\n",
      "release_date         0\n",
      "vote_average         0\n",
      "vote_count           0\n",
      "dtype: int64\n",
      "First few rows of merged_data:\n",
      "                         title studio  domestic_gross  foreign_gross  year  \\\n",
      "0                 Toy Story 3     BV     415000000.0    652000000.0  2010   \n",
      "1                   Inception     WB     292600000.0    535700000.0  2010   \n",
      "2         Shrek Forever After   P/DW     238700000.0    513900000.0  2010   \n",
      "3  The Twilight Saga: Eclipse   Sum.     300500000.0    398000000.0  2010   \n",
      "4                  Iron Man 2   Par.     312400000.0    311500000.0  2010   \n",
      "\n",
      "   Unnamed: 0                genre_ids     id original_language  \\\n",
      "0           7          [16, 10751, 35]  10193                en   \n",
      "1           4            [28, 878, 12]  27205                en   \n",
      "2          38  [35, 12, 14, 16, 10751]  10192                en   \n",
      "3          15      [12, 14, 18, 10749]  24021                en   \n",
      "4           2            [12, 28, 878]  10138                en   \n",
      "\n",
      "               original_title  popularity release_date  vote_average  \\\n",
      "0                 Toy Story 3      24.445   2010-06-17           7.7   \n",
      "1                   Inception      27.920   2010-07-16           8.3   \n",
      "2         Shrek Forever After      15.041   2010-05-16           6.1   \n",
      "3  The Twilight Saga: Eclipse      20.340   2010-06-23           6.0   \n",
      "4                  Iron Man 2      28.515   2010-05-07           6.8   \n",
      "\n",
      "   vote_count  \n",
      "0        8340  \n",
      "1       22186  \n",
      "2        3843  \n",
      "3        4909  \n",
      "4       12368  \n",
      "Columns in merged_data:\n",
      " Index(['title', 'studio', 'domestic_gross', 'foreign_gross', 'year',\n",
      "       'Unnamed: 0', 'genre_ids', 'id', 'original_language', 'original_title',\n",
      "       'popularity', 'release_date', 'vote_average', 'vote_count'],\n",
      "      dtype='object')\n",
      "Random sample of merged_data:\n",
      "                       title studio  domestic_gross  foreign_gross  year  \\\n",
      "866      The Purge: Anarchy   Uni.      72000000.0     40000000.0  2014   \n",
      "529     Here Comes the Boom   Sony      45300000.0     27800000.0  2012   \n",
      "1577              Bumblebee   Par.     127200000.0    340800000.0  2018   \n",
      "1182  Jem and the Holograms   Uni.       2200000.0       149000.0  2015   \n",
      "1503   Call Me by Your Name    SPC      18100000.0     23800000.0  2017   \n",
      "\n",
      "      Unnamed: 0        genre_ids      id original_language  \\\n",
      "866        11033         [27, 53]  238636                en   \n",
      "529         5299         [28, 35]   87826                en   \n",
      "1577       23820    [28, 12, 878]  424783                en   \n",
      "1182       14446  [18, 14, 10402]  266639                en   \n",
      "1503       20660      [10749, 18]  398818                en   \n",
      "\n",
      "             original_title  popularity release_date  vote_average  vote_count  \n",
      "866      The Purge: Anarchy      28.424   2014-07-18           6.6        3754  \n",
      "529     Here Comes the Boom      10.265   2012-10-12           6.0         812  \n",
      "1577              Bumblebee      43.078   2018-12-21           6.5        2425  \n",
      "1182  Jem and the Holograms       7.942   2015-10-23           5.4         241  \n",
      "1503   Call Me by Your Name      20.504   2017-11-24           8.3        4957  \n"
     ]
    }
   ],
   "source": [
    "#Confirm merging is successful\n",
    "print(\"Shape of box_office_data:\", box_office_data.shape)\n",
    "print(\"Shape of tmdb_data:\", tmdb_data.shape)\n",
    "print(\"Shape of merged_data:\", merged_data.shape)\n",
    "\n",
    "print(\"Missing values in merged_data:\\n\", merged_data.isnull().sum())\n",
    "print(\"First few rows of merged_data:\\n\", merged_data.head())\n",
    "print(\"Columns in merged_data:\\n\", merged_data.columns)\n",
    "print(\"Random sample of merged_data:\\n\", merged_data.sample(5))"
   ]
  },
  {
   "cell_type": "markdown",
   "metadata": {},
   "source": [
    "## Data Analysis"
   ]
  },
  {
   "cell_type": "code",
   "execution_count": 21,
   "metadata": {},
   "outputs": [
    {
     "data": {
      "image/png": "[encoded data removed]",
      "text/plain": [
       "<Figure size 1400x800 with 1 Axes>"
      ]
     },
     "metadata": {},
     "output_type": "display_data"
    }
   ],
   "source": [
    "#Doing a genre analysis\n",
    "# Explode genre_ids and calculate average gross by genre\n",
    "merged_data['genres'] = merged_data['genre_ids'].apply(lambda x: eval(x) if isinstance(x, str) else [])\n",
    "genre_gross = merged_data.explode('genres')\n",
    "genre_gross = genre_gross.groupby('genres')['total_gross'].mean().sort_values(ascending=False).reset_index()\n",
    "\n",
    "# Map genre IDs to names\n",
    "genre_mapping = {28: 'Action', 12: 'Adventure', 16: 'Animation', 35: 'Comedy', 80: 'Crime', 99: 'Documentary', \n",
    "                 18: 'Drama', 10751: 'Family', 14: 'Fantasy', 36: 'History', 27: 'Horror', 10402: 'Music', \n",
    "                 9648: 'Mystery', 10749: 'Romance', 878: 'Science Fiction', 10770: 'TV Movie', 53: 'Thriller', \n",
    "                 10752: 'War', 37: 'Western'}\n",
    "genre_gross['genres'] = genre_gross['genres'].map(genre_mapping)\n",
    "\n",
    "# Visualization: Average Gross by Genre\n",
    "plt.figure(figsize=(14, 8))\n",
    "sns.barplot(x='total_gross', y='genres', data=genre_gross.head(10))\n",
    "plt.title('Average Gross by Genre')\n",
    "plt.xlabel('Average Total Gross (in millions)')\n",
    "plt.ylabel('Genres')\n",
    "plt.show()\n"
   ]
  },
  {
   "cell_type": "code",
   "execution_count": null,
   "metadata": {},
   "outputs": [],
   "source": []
  }
 ],
 "metadata": {
  "kernelspec": {
   "display_name": "Python (learn-env)",
   "language": "python",
   "name": "learn-env"
  },
  "language_info": {
   "codemirror_mode": {
    "name": "ipython",
    "version": 3
   },
   "file_extension": ".py",
   "mimetype": "text/x-python",
   "name": "python",
   "nbconvert_exporter": "python",
   "pygments_lexer": "ipython3",
   "version": "3.11.7"
  }
 },
 "nbformat": 4,
 "nbformat_minor": 2
}
